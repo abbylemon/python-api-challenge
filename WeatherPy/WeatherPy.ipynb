{
 "cells": [
  {
   "cell_type": "markdown",
   "metadata": {},
   "source": [
    "# WeatherPy\n",
    "----\n",
    "\n",
    "#### Note\n",
    "* Instructions have been included for each segment. You do not have to follow them exactly, but they are included to help you think through the steps."
   ]
  },
  {
   "cell_type": "code",
   "execution_count": 2,
   "metadata": {
    "scrolled": true
   },
   "outputs": [
    {
     "ename": "ModuleNotFoundError",
     "evalue": "No module named 'config'",
     "output_type": "error",
     "traceback": [
      "\u001b[0;31m---------------------------------------------------------------------------\u001b[0m",
      "\u001b[0;31mModuleNotFoundError\u001b[0m                       Traceback (most recent call last)",
      "\u001b[0;32m<ipython-input-2-54fc2a2edda1>\u001b[0m in \u001b[0;36m<module>\u001b[0;34m\u001b[0m\n\u001b[1;32m     11\u001b[0m \u001b[0;34m\u001b[0m\u001b[0m\n\u001b[1;32m     12\u001b[0m \u001b[0;31m# Import API keys\u001b[0m\u001b[0;34m\u001b[0m\u001b[0;34m\u001b[0m\u001b[0;34m\u001b[0m\u001b[0m\n\u001b[0;32m---> 13\u001b[0;31m \u001b[0;32mfrom\u001b[0m \u001b[0mconfig\u001b[0m \u001b[0;32mimport\u001b[0m \u001b[0mwkey\u001b[0m\u001b[0;34m\u001b[0m\u001b[0;34m\u001b[0m\u001b[0m\n\u001b[0m\u001b[1;32m     14\u001b[0m \u001b[0;34m\u001b[0m\u001b[0m\n\u001b[1;32m     15\u001b[0m \u001b[0;31m# Incorporated citipy to determine city based on latitude and longitude\u001b[0m\u001b[0;34m\u001b[0m\u001b[0;34m\u001b[0m\u001b[0;34m\u001b[0m\u001b[0m\n",
      "\u001b[0;31mModuleNotFoundError\u001b[0m: No module named 'config'"
     ]
    }
   ],
   "source": [
    "# Dependencies and Setup\n",
    "import matplotlib.pyplot as plt\n",
    "import pandas as pd\n",
    "import numpy as np\n",
    "import requests\n",
    "import time\n",
    "from scipy.stats import linregress\n",
    "import sys\n",
    "\n",
    "sys.setrecursionlimit(10**6)\n",
    "\n",
    "# Import API keys\n",
    "from config import wkey\n",
    "\n",
    "# Incorporated citipy to determine city based on latitude and longitude\n",
    "from citipy import citipy\n",
    "\n",
    "# Output File (CSV)\n",
    "output_data_file = \"output_data/cities.csv\"\n",
    "\n",
    "# Range of latitudes and longitudes\n",
    "lat_range = (-90, 90)\n",
    "lng_range = (-180, 180)"
   ]
  },
  {
   "cell_type": "markdown",
   "metadata": {},
   "source": [
    "## Generate Cities List"
   ]
  },
  {
   "cell_type": "code",
   "execution_count": null,
   "metadata": {},
   "outputs": [],
   "source": [
    "# List for holding lat_lngs and cities\n",
    "lat_lngs = []\n",
    "cities = []\n",
    "\n",
    "# Create a set of random lat and lng combinations\n",
    "lats = np.random.uniform(low=-90.000, high=90.000, size=1500)\n",
    "lngs = np.random.uniform(low=-180.000, high=180.000, size=1500)\n",
    "lat_lngs = zip(lats, lngs)\n",
    "\n",
    "# Identify nearest city for each lat, lng combination\n",
    "for lat_lng in lat_lngs:\n",
    "    city = citipy.nearest_city(lat_lng[0], lat_lng[1]).city_name\n",
    "    \n",
    "    # If the city is unique, then add it to a our cities list\n",
    "    if city not in cities:\n",
    "        cities.append(city)\n",
    "\n",
    "# Print the city count to confirm sufficient count\n",
    "len(cities)"
   ]
  },
  {
   "cell_type": "markdown",
   "metadata": {},
   "source": [
    "### Perform API Calls\n",
    "* Perform a weather check on each city using a series of successive API calls.\n",
    "* Include a print log of each city as it's being processed (with the city number and city name).\n"
   ]
  },
  {
   "cell_type": "code",
   "execution_count": null,
   "metadata": {},
   "outputs": [],
   "source": [
    "citylist = []\n",
    "cloudiness= []\n",
    "country = []\n",
    "date = []\n",
    "humidity = []\n",
    "lat = []\n",
    "lng = []\n",
    "max_temp = []\n",
    "wind_speed = []\n",
    "\n",
    "units = \"metric\"\n",
    "base_url = \"http://api.openweathermap.org/data/2.5/weather?\"\n",
    "query_url = f\"{base_url}appid={wkey}&units={units}&q=\"\n",
    "line = \"-----------------------------\"\n",
    "\n",
    "print(\"Beginning Data Retrieval\")\n",
    "print(line)\n",
    "count = 0\n",
    "for city in cities:\n",
    "    try:\n",
    "        response = requests.get(query_url + city).json()\n",
    "        print(f\"Processing Record {count} / {city}\")\n",
    "        citylist.append(response['name'])\n",
    "        cloudiness.append(response['clouds']['all'])\n",
    "        country.append(response['sys']['country'])\n",
    "        date.append(response['dt'])\n",
    "        humidity.append(response['main']['humidity'])\n",
    "        lat.append(response['coord']['lat'])\n",
    "        lng.append(response['coord']['lon'])\n",
    "        max_temp.append(response['main']['temp_max'])\n",
    "        wind_speed.append(response['wind']['speed'])\n",
    "        count += 1\n",
    "    except:\n",
    "        print(\"City not found. Skipping...\")\n",
    "        cities.remove(city)\n",
    "        count += 1\n",
    "        pass\n",
    "print(line)\n",
    "print(\"Data Retrieval Complete\")\n",
    "print(line)\n"
   ]
  },
  {
   "cell_type": "markdown",
   "metadata": {},
   "source": [
    "### Convert Raw Data to DataFrame\n",
    "* Export the city data into a .csv.\n",
    "* Display the DataFrame"
   ]
  },
  {
   "cell_type": "code",
   "execution_count": null,
   "metadata": {},
   "outputs": [],
   "source": [
    "city_data_dict = {\n",
    "    'City':citylist, \"Cloudiness\":cloudiness, \"Country\":country, \"Date\":date, \"Humidity\":humidity,\n",
    "    \"Lat\":lat, \"Lng\":lng, \"Max Temp\":max_temp, \"Wind Speed\":wind_speed\n",
    "}\n",
    "\n",
    "city_data_df = pd.DataFrame(city_data_dict)\n",
    "\n",
    "city_data_df.to_csv(output_data_file)"
   ]
  },
  {
   "cell_type": "code",
   "execution_count": null,
   "metadata": {},
   "outputs": [],
   "source": [
    "city_data_df.head()"
   ]
  },
  {
   "cell_type": "markdown",
   "metadata": {},
   "source": [
    "### Plotting the Data\n",
    "* Use proper labeling of the plots using plot titles (including date of analysis) and axes labels.\n",
    "* Save the plotted figures as .pngs."
   ]
  },
  {
   "cell_type": "markdown",
   "metadata": {},
   "source": [
    "#### Latitude vs. Temperature Plot"
   ]
  },
  {
   "cell_type": "code",
   "execution_count": null,
   "metadata": {},
   "outputs": [],
   "source": [
    "# trying to get the unitdate to real date.\n",
    "\n",
    "date = pd.to_datetime(city_data_df['Date'], unit='ms')\n",
    "date"
   ]
  },
  {
   "cell_type": "code",
   "execution_count": null,
   "metadata": {
    "scrolled": true
   },
   "outputs": [],
   "source": [
    "lat_temp_plot = city_data_df.plot.scatter(y=\"Max Temp\", x=\"Lat\", grid=True)\n",
    "plt.ylabel(\"Maximum Temperature (degrees C)\")\n",
    "plt.xlabel('Latitude (degrees)')\n",
    "plt.title(f'City Latitude vs Maximum Temperature')\n",
    "# date = pd.to_datetime(city_data_df['Date'].head(1))\n",
    "plt.show()\n",
    "plt.savefig('output_data/cit-vs-temp.png')"
   ]
  },
  {
   "cell_type": "markdown",
   "metadata": {},
   "source": [
    "#### Latitude vs. Humidity Plot"
   ]
  },
  {
   "cell_type": "code",
   "execution_count": null,
   "metadata": {},
   "outputs": [],
   "source": [
    "lat_hum_plot = city_data_df.plot.scatter(y='Humidity', x='Lat', grid=True)\n",
    "plt.ylabel(\"Humidity (%)\")\n",
    "plt.xlabel(\"Latitude (degrees)\")\n",
    "plt.title(\"City Latitude vs. Humidity\")\n",
    "plt.show()\n",
    "plt.savefig('output_data/cit-vs-humidity.png')"
   ]
  },
  {
   "cell_type": "markdown",
   "metadata": {},
   "source": [
    "#### Latitude vs. Cloudiness Plot"
   ]
  },
  {
   "cell_type": "code",
   "execution_count": null,
   "metadata": {},
   "outputs": [],
   "source": [
    "lat_clouds_plot = city_data_df.plot.scatter(y='Cloudiness', x='Lat', grid=True)\n",
    "plt.ylabel(\"Cloudiness (%)\")\n",
    "plt.xlabel('Latitude (degrees)')\n",
    "plt.title(\"City Latitude vs. Cloudiness\")\n",
    "plt.show()\n",
    "plt.savefig('output_data/cit-vs-coudiness.png')"
   ]
  },
  {
   "cell_type": "markdown",
   "metadata": {},
   "source": [
    "#### Latitude vs. Wind Speed Plot"
   ]
  },
  {
   "cell_type": "code",
   "execution_count": null,
   "metadata": {},
   "outputs": [],
   "source": [
    "lat_clouds_plot = city_data_df.plot.scatter(y='Wind Speed', x='Lat', grid=True)\n",
    "plt.ylabel(\"Wind Speed (mph)\")\n",
    "plt.xlabel(\"Latitude (degrees)\")\n",
    "plt.title(\"City Latitude vs. Wind Speed\")\n",
    "plt.show()\n",
    "plt.savefig('output_data/cit-vs-wind.png')"
   ]
  },
  {
   "cell_type": "markdown",
   "metadata": {},
   "source": [
    "## Linear Regression"
   ]
  },
  {
   "cell_type": "code",
   "execution_count": null,
   "metadata": {},
   "outputs": [],
   "source": [
    "# OPTIONAL: Create a function to create Linear Regression plots\n",
    "def line_regress_function(x_values, y_values):\n",
    "    (slope, intercept, rvalue, pvalue, stderr) = linregress(x_values, y_values)\n",
    "    regress_values = x_values * slope + intercept\n",
    "    line_eq = f\"y = {round(slope,2)}x + {round(intercept,2)}\"\n",
    "    plt.scatter(x_values, y_values)\n",
    "    plt.grid()\n",
    "    plt.plot(x_values, regress_values, \"r-\")\n",
    "    return(plt)"
   ]
  },
  {
   "cell_type": "code",
   "execution_count": null,
   "metadata": {},
   "outputs": [],
   "source": [
    "# Create Northern and Southern Hemisphere DataFrames\n",
    "northern_hem_df = city_data_df[city_data_df[\"Lat\"]>0]\n",
    "southern_hem_df = city_data_df[city_data_df[\"Lat\"]<0]"
   ]
  },
  {
   "cell_type": "markdown",
   "metadata": {},
   "source": [
    "####  Northern Hemisphere - Max Temp vs. Latitude Linear Regression"
   ]
  },
  {
   "cell_type": "code",
   "execution_count": null,
   "metadata": {},
   "outputs": [],
   "source": [
    "line_regress_function(northern_hem_df['Lat'],northern_hem_df[\"Max Temp\"])\n",
    "plt.ylabel(\"Maximum Temperature (degrees C)\")\n",
    "plt.xlabel(\"Latitude (degrees)\")\n",
    "plt.title(\"Northern Hemisphere - City Latitude vs. Maximum Temperature\")\n",
    "plt.show()\n",
    "plt.savefig('output_data/Northern-Hemisphere-cit-vs-temp-regress.png')"
   ]
  },
  {
   "cell_type": "markdown",
   "metadata": {},
   "source": [
    "####  Southern Hemisphere - Max Temp vs. Latitude Linear Regression"
   ]
  },
  {
   "cell_type": "code",
   "execution_count": null,
   "metadata": {},
   "outputs": [],
   "source": [
    "line_regress_function(southern_hem_df['Lat'],southern_hem_df[\"Max Temp\"])\n",
    "plt.ylabel(\"Maximum Temperature (degrees C)\")\n",
    "plt.xlabel(\"Latitude (degrees)\")\n",
    "plt.title(\"Southern Hemisphere - City Latitude vs. Maximum Temperature\")\n",
    "plt.show()\n",
    "plt.savefig('output_data/Southern-Hemisphere-cit-vs-temp-regress.png')"
   ]
  },
  {
   "cell_type": "markdown",
   "metadata": {},
   "source": [
    "####  Northern Hemisphere - Humidity (%) vs. Latitude Linear Regression"
   ]
  },
  {
   "cell_type": "code",
   "execution_count": null,
   "metadata": {},
   "outputs": [],
   "source": [
    "line_regress_function(northern_hem_df['Lat'],northern_hem_df[\"Humidity\"])\n",
    "plt.ylabel(\"Humidity (%)\")\n",
    "plt.xlabel(\"Latitude (degrees)\")\n",
    "plt.title(\"Northern Hemisphere - City Latitude vs. Humidity\")\n",
    "plt.show()\n",
    "plt.savefig('output_data/Northern-Hemisphere-cit-vs-humidity-regress.png')"
   ]
  },
  {
   "cell_type": "markdown",
   "metadata": {},
   "source": [
    "####  Southern Hemisphere - Humidity (%) vs. Latitude Linear Regression"
   ]
  },
  {
   "cell_type": "code",
   "execution_count": null,
   "metadata": {},
   "outputs": [],
   "source": [
    "line_regress_function(southern_hem_df['Lat'],southern_hem_df[\"Humidity\"])\n",
    "plt.ylabel(\"Humidity (%)\")\n",
    "plt.xlabel(\"Latitude (degrees)\")\n",
    "plt.title(\"Southern Hemisphere - City Latitude vs. Humidity\")\n",
    "plt.show()\n",
    "plt.savefig('output_data/Southern-Hemisphere-cit-vs-humidity-regress.png')"
   ]
  },
  {
   "cell_type": "markdown",
   "metadata": {},
   "source": [
    "####  Northern Hemisphere - Cloudiness (%) vs. Latitude Linear Regression"
   ]
  },
  {
   "cell_type": "code",
   "execution_count": null,
   "metadata": {},
   "outputs": [],
   "source": [
    "line_regress_function(northern_hem_df['Lat'],northern_hem_df[\"Cloudiness\"])\n",
    "plt.ylabel(\"Cloudiness (%)\")\n",
    "plt.xlabel('Latitude (degrees)')\n",
    "plt.title(\"Northern Hemisphere - City Latitude vs. Cloudiness\")\n",
    "plt.show()\n",
    "plt.savefig('output_data/Northern-Hemisphere-cit-vs-coludiness-regress.png')"
   ]
  },
  {
   "cell_type": "markdown",
   "metadata": {},
   "source": [
    "####  Southern Hemisphere - Cloudiness (%) vs. Latitude Linear Regression"
   ]
  },
  {
   "cell_type": "code",
   "execution_count": null,
   "metadata": {},
   "outputs": [],
   "source": [
    "line_regress_function(southern_hem_df['Lat'],southern_hem_df[\"Cloudiness\"])\n",
    "plt.ylabel(\"Cloudiness (%)\")\n",
    "plt.xlabel('Latitude (degrees)')\n",
    "plt.title(\"Southern Hemisphere - City Latitude vs. Cloudiness\")\n",
    "plt.show()\n",
    "plt.savefig('output_data/Southern-Hemisphere-cit-vs-coludiness-regress.png')"
   ]
  },
  {
   "cell_type": "markdown",
   "metadata": {},
   "source": [
    "####  Northern Hemisphere - Wind Speed (mph) vs. Latitude Linear Regression"
   ]
  },
  {
   "cell_type": "code",
   "execution_count": null,
   "metadata": {},
   "outputs": [],
   "source": [
    "line_regress_function(northern_hem_df['Lat'],northern_hem_df[\"Wind Speed\"])\n",
    "plt.ylabel(\"Wind Speed (mph)\")\n",
    "plt.xlabel(\"Latitude (degrees)\")\n",
    "plt.title(\"Northern Hemisphere - City Latitude vs. Wind Speed\")\n",
    "plt.show()\n",
    "plt.savefig('output_data/Northern-Hemisphere-cit-vs-wind-regress.png')"
   ]
  },
  {
   "cell_type": "markdown",
   "metadata": {},
   "source": [
    "####  Southern Hemisphere - Wind Speed (mph) vs. Latitude Linear Regression"
   ]
  },
  {
   "cell_type": "code",
   "execution_count": null,
   "metadata": {},
   "outputs": [],
   "source": [
    "line_regress_function(southern_hem_df['Lat'],southern_hem_df[\"Wind Speed\"])\n",
    "plt.ylabel(\"Wind Speed (mph)\")\n",
    "plt.xlabel(\"Latitude (degrees)\")\n",
    "plt.title(\"Southern Hemisphere - City Latitude vs. Wind Speed\")\n",
    "plt.show()\n",
    "plt.savefig('output_data/Southern-Hemisphere-cit-vs-wind-regress.png')"
   ]
  },
  {
   "cell_type": "code",
   "execution_count": null,
   "metadata": {},
   "outputs": [],
   "source": []
  }
 ],
 "metadata": {
  "anaconda-cloud": {},
  "kernel_info": {
   "name": "python3"
  },
  "kernelspec": {
   "display_name": "Python 3",
   "language": "python",
   "name": "python3"
  },
  "language_info": {
   "codemirror_mode": {
    "name": "ipython",
    "version": 3
   },
   "file_extension": ".py",
   "mimetype": "text/x-python",
   "name": "python",
   "nbconvert_exporter": "python",
   "pygments_lexer": "ipython3",
   "version": "3.6.9"
  },
  "latex_envs": {
   "LaTeX_envs_menu_present": true,
   "autoclose": false,
   "autocomplete": true,
   "bibliofile": "biblio.bib",
   "cite_by": "apalike",
   "current_citInitial": 1,
   "eqLabelWithNumbers": true,
   "eqNumInitial": 1,
   "hotkeys": {
    "equation": "Ctrl-E",
    "itemize": "Ctrl-I"
   },
   "labels_anchors": false,
   "latex_user_defs": false,
   "report_style_numbering": false,
   "user_envs_cfg": false
  },
  "nteract": {
   "version": "0.12.3"
  }
 },
 "nbformat": 4,
 "nbformat_minor": 2
}
