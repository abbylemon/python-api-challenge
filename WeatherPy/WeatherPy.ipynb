{
 "cells": [
  {
   "cell_type": "markdown",
   "metadata": {},
   "source": [
    "# WeatherPy\n",
    "----\n",
    "\n",
    "#### Note\n",
    "* Instructions have been included for each segment. You do not have to follow them exactly, but they are included to help you think through the steps."
   ]
  },
  {
   "cell_type": "code",
   "execution_count": 1,
   "metadata": {
    "scrolled": true
   },
   "outputs": [],
   "source": [
    "# Dependencies and Setup\n",
    "import matplotlib.pyplot as plt\n",
    "import pandas as pd\n",
    "import numpy as np\n",
    "import requests\n",
    "import time\n",
    "from scipy.stats import linregress\n",
    "\n",
    "# Import API keys\n",
    "from config import wkey\n",
    "\n",
    "# Incorporated citipy to determine city based on latitude and longitude\n",
    "from citipy import citipy\n",
    "\n",
    "# Output File (CSV)\n",
    "output_data_file = \"output_data/cities.csv\"\n",
    "\n",
    "# Range of latitudes and longitudes\n",
    "lat_range = (-90, 90)\n",
    "lng_range = (-180, 180)"
   ]
  },
  {
   "cell_type": "markdown",
   "metadata": {},
   "source": [
    "## Generate Cities List"
   ]
  },
  {
   "cell_type": "code",
   "execution_count": 5,
   "metadata": {},
   "outputs": [
    {
     "data": {
      "text/plain": [
       "602"
      ]
     },
     "execution_count": 5,
     "metadata": {},
     "output_type": "execute_result"
    }
   ],
   "source": [
    "# List for holding lat_lngs and cities\n",
    "lat_lngs = []\n",
    "cities = []\n",
    "\n",
    "# Create a set of random lat and lng combinations\n",
    "lats = np.random.uniform(low=-90.000, high=90.000, size=1500)\n",
    "lngs = np.random.uniform(low=-180.000, high=180.000, size=1500)\n",
    "lat_lngs = zip(lats, lngs)\n",
    "\n",
    "# Identify nearest city for each lat, lng combination\n",
    "for lat_lng in lat_lngs:\n",
    "    city = citipy.nearest_city(lat_lng[0], lat_lng[1]).city_name\n",
    "    \n",
    "    # If the city is unique, then add it to a our cities list\n",
    "    if city not in cities:\n",
    "        cities.append(city)\n",
    "\n",
    "# Print the city count to confirm sufficient count\n",
    "len(cities)"
   ]
  },
  {
   "cell_type": "markdown",
   "metadata": {},
   "source": [
    "### Perform API Calls\n",
    "* Perform a weather check on each city using a series of successive API calls.\n",
    "* Include a print log of each city as it's being processed (with the city number and city name).\n"
   ]
  },
  {
   "cell_type": "code",
   "execution_count": 3,
   "metadata": {},
   "outputs": [
    {
     "name": "stdout",
     "output_type": "stream",
     "text": [
      "Beginning Data Retrieval\n",
      "-----------------------------\n",
      "Processing Record 0 / barrow\n",
      "Processing Record 1 / constitucion\n",
      "Processing Record 2 / east london\n",
      "Processing Record 3 / new norfolk\n",
      "Processing Record 4 / yanchukan\n",
      "City not found. Skipping...\n",
      "Processing Record 5 / tuktoyaktuk\n",
      "Processing Record 6 / longyearbyen\n",
      "Processing Record 7 / mataura\n",
      "Processing Record 8 / havre-saint-pierre\n",
      "Processing Record 9 / geraldton\n",
      "Processing Record 10 / vallenar\n",
      "Processing Record 11 / nizhneyansk\n",
      "City not found. Skipping...\n",
      "Processing Record 12 / bethel\n",
      "Processing Record 13 / chernyshevskiy\n",
      "Processing Record 14 / hithadhoo\n",
      "Processing Record 15 / hilo\n",
      "Processing Record 16 / karratha\n",
      "Processing Record 17 / busselton\n",
      "Processing Record 18 / rikitea\n",
      "Processing Record 19 / belushya guba\n",
      "City not found. Skipping...\n",
      "Processing Record 20 / illoqqortoormiut\n",
      "City not found. Skipping...\n",
      "Processing Record 21 / agadez\n",
      "Processing Record 22 / dikson\n",
      "Processing Record 23 / san carlos de bariloche\n",
      "Processing Record 24 / khatanga\n",
      "Processing Record 25 / aksu\n",
      "Processing Record 26 / hermanus\n",
      "Processing Record 27 / ushuaia\n",
      "Processing Record 28 / kieta\n",
      "Processing Record 29 / luwuk\n",
      "Processing Record 30 / churapcha\n",
      "Processing Record 31 / nemuro\n",
      "Processing Record 32 / manicore\n",
      "Processing Record 33 / cidreira\n",
      "Processing Record 34 / oksfjord\n",
      "Processing Record 35 / ilulissat\n",
      "Processing Record 36 / formosa\n",
      "Processing Record 37 / kerman\n",
      "Processing Record 38 / butaritari\n",
      "Processing Record 39 / cabo san lucas\n",
      "Processing Record 40 / albany\n",
      "Processing Record 41 / saskylakh\n",
      "Processing Record 42 / provideniya\n",
      "Processing Record 43 / chuy\n",
      "Processing Record 44 / luderitz\n",
      "Processing Record 45 / acarau\n",
      "Processing Record 46 / kawana waters\n",
      "City not found. Skipping...\n",
      "Processing Record 47 / mandasa\n",
      "Processing Record 48 / nyurba\n",
      "Processing Record 49 / ponta do sol\n",
      "Processing Record 50 / yershov\n",
      "Processing Record 51 / sitka\n",
      "Processing Record 52 / belle fourche\n",
      "Processing Record 53 / hofn\n",
      "Processing Record 54 / nanchang\n",
      "Processing Record 55 / kodiak\n",
      "Processing Record 56 / hanko\n",
      "Processing Record 57 / itambacuri\n",
      "Processing Record 58 / port elizabeth\n",
      "Processing Record 59 / general roca\n",
      "Processing Record 60 / lebu\n",
      "Processing Record 61 / taolanaro\n",
      "City not found. Skipping...\n",
      "Processing Record 62 / maningrida\n",
      "Processing Record 63 / caranavi\n",
      "Processing Record 64 / puerto ayora\n",
      "Processing Record 65 / nuristan\n",
      "Processing Record 66 / piacabucu\n",
      "Processing Record 67 / gouyave\n",
      "Processing Record 68 / kahului\n",
      "Processing Record 69 / stolin\n",
      "Processing Record 70 / vaini\n",
      "Processing Record 71 / tsihombe\n",
      "City not found. Skipping...\n",
      "Processing Record 72 / pevek\n",
      "Processing Record 73 / yulara\n",
      "Processing Record 74 / jamestown\n",
      "Processing Record 75 / rexburg\n",
      "Processing Record 76 / san andres\n",
      "Processing Record 77 / cape town\n",
      "Processing Record 78 / mahadday weyne\n",
      "City not found. Skipping...\n",
      "Processing Record 79 / meyungs\n",
      "City not found. Skipping...\n",
      "Processing Record 80 / saint-philippe\n",
      "Processing Record 81 / tupik\n",
      "Processing Record 82 / marsh harbour\n",
      "Processing Record 83 / aktash\n",
      "Processing Record 84 / turukhansk\n",
      "Processing Record 85 / vaitupu\n",
      "City not found. Skipping...\n",
      "Processing Record 86 / mahebourg\n",
      "Processing Record 87 / long beach\n",
      "Processing Record 88 / mys shmidta\n",
      "City not found. Skipping...\n",
      "Processing Record 89 / thompson\n",
      "Processing Record 90 / lethem\n",
      "Processing Record 91 / fairbanks\n",
      "Processing Record 92 / carnarvon\n",
      "Processing Record 93 / san quintin\n",
      "Processing Record 94 / avarua\n",
      "Processing Record 95 / tateyama\n",
      "Processing Record 96 / rocha\n",
      "Processing Record 97 / samusu\n",
      "City not found. Skipping...\n",
      "Processing Record 98 / airai\n",
      "Processing Record 99 / teseney\n",
      "Processing Record 100 / sinegorsk\n",
      "Processing Record 101 / souillac\n",
      "Processing Record 102 / port blair\n",
      "Processing Record 103 / talnakh\n",
      "Processing Record 104 / coihaique\n",
      "Processing Record 105 / santiago\n",
      "Processing Record 106 / deniliquin\n",
      "Processing Record 107 / houston\n",
      "Processing Record 108 / boma\n",
      "Processing Record 109 / the valley\n",
      "Processing Record 110 / sidrolandia\n",
      "Processing Record 111 / olafsvik\n",
      "Processing Record 112 / svetlyy\n",
      "Processing Record 113 / kirakira\n",
      "Processing Record 114 / kuzhener\n",
      "Processing Record 115 / baghdad\n",
      "Processing Record 116 / san patricio\n",
      "Processing Record 117 / tura\n",
      "Processing Record 118 / reefton\n",
      "City not found. Skipping...\n",
      "Processing Record 119 / brigantine\n",
      "Processing Record 120 / bluff\n",
      "Processing Record 121 / baley\n",
      "Processing Record 122 / champerico\n",
      "Processing Record 123 / castro\n",
      "Processing Record 124 / cayenne\n",
      "Processing Record 125 / aklavik\n",
      "Processing Record 126 / san cristobal\n",
      "Processing Record 127 / impfondo\n",
      "Processing Record 128 / kavieng\n",
      "Processing Record 129 / kununurra\n",
      "Processing Record 130 / monrovia\n",
      "Processing Record 131 / mar del plata\n",
      "Processing Record 132 / bathsheba\n",
      "Processing Record 133 / nikolskoye\n",
      "Processing Record 134 / belmonte\n",
      "Processing Record 135 / byron bay\n",
      "Processing Record 136 / marawi\n",
      "Processing Record 137 / coquimbo\n",
      "Processing Record 138 / kruisfontein\n",
      "Processing Record 139 / port alfred\n",
      "Processing Record 140 / tumannyy\n",
      "City not found. Skipping...\n",
      "Processing Record 141 / kristiinankaupunki\n",
      "Processing Record 142 / lompoc\n",
      "Processing Record 143 / comodoro rivadavia\n",
      "Processing Record 144 / leningradskiy\n",
      "Processing Record 145 / hamilton\n",
      "Processing Record 146 / narsaq\n",
      "Processing Record 147 / eskasem\n",
      "City not found. Skipping...\n",
      "Processing Record 148 / severo-kurilsk\n",
      "Processing Record 149 / saldanha\n",
      "Processing Record 150 / victoria\n",
      "Processing Record 151 / sorland\n",
      "Processing Record 152 / corn island\n",
      "Processing Record 153 / chegdomyn\n",
      "Processing Record 154 / sept-iles\n",
      "Processing Record 155 / along\n",
      "Processing Record 156 / guerrero negro\n",
      "Processing Record 157 / los llanos de aridane\n",
      "Processing Record 158 / ribeira grande\n",
      "Processing Record 159 / paita\n",
      "Processing Record 160 / nome\n",
      "Processing Record 161 / urumqi\n",
      "Processing Record 162 / clyde river\n",
      "Processing Record 163 / bambari\n",
      "Processing Record 164 / hope\n",
      "Processing Record 165 / klaksvik\n",
      "Processing Record 166 / sao filipe\n",
      "Processing Record 167 / saint george\n",
      "Processing Record 168 / lata\n",
      "Processing Record 169 / groningen\n",
      "Processing Record 170 / shouguang\n",
      "Processing Record 171 / sabha\n",
      "Processing Record 172 / padang\n",
      "Processing Record 173 / albury\n",
      "Processing Record 174 / artigas\n",
      "Processing Record 175 / aswan\n",
      "Processing Record 176 / unye\n",
      "City not found. Skipping...\n",
      "Processing Record 177 / port hardy\n",
      "Processing Record 178 / omaruru\n",
      "Processing Record 179 / itarema\n",
      "Processing Record 180 / atuona\n",
      "Processing Record 181 / katsuura\n",
      "Processing Record 182 / chicla\n",
      "Processing Record 183 / isangel\n",
      "Processing Record 184 / sataua\n",
      "City not found. Skipping...\n",
      "Processing Record 185 / perivolia\n",
      "Processing Record 186 / samarai\n",
      "Processing Record 187 / merauke\n",
      "Processing Record 188 / coracora\n",
      "Processing Record 189 / verkhnebakanskiy\n",
      "Processing Record 190 / moindou\n",
      "Processing Record 191 / barbar\n",
      "City not found. Skipping...\n",
      "Processing Record 192 / griffith\n",
      "Processing Record 193 / chifeng\n",
      "Processing Record 194 / riyadh\n",
      "Processing Record 195 / vaitape\n",
      "Processing Record 196 / marcona\n",
      "City not found. Skipping...\n",
      "Processing Record 197 / whitehorse\n",
      "Processing Record 198 / canon city\n",
      "Processing Record 199 / inuvik\n",
      "Processing Record 200 / tsabong\n",
      "Processing Record 201 / makakilo city\n",
      "Processing Record 202 / ravar\n",
      "Processing Record 203 / jamame\n",
      "Processing Record 204 / kedougou\n",
      "Processing Record 205 / chitipa\n",
      "Processing Record 206 / chokurdakh\n",
      "Processing Record 207 / qaanaaq\n",
      "Processing Record 208 / port-cartier\n",
      "Processing Record 209 / saurimo\n",
      "Processing Record 210 / sentyabrskiy\n",
      "City not found. Skipping...\n",
      "Processing Record 211 / macamic\n",
      "Processing Record 212 / avera\n",
      "Processing Record 213 / halifax\n",
      "Processing Record 214 / tres arroyos\n",
      "Processing Record 215 / kenora\n",
      "Processing Record 216 / santa maria\n",
      "Processing Record 217 / praia da vitoria\n",
      "Processing Record 218 / lima\n",
      "Processing Record 219 / lumphat\n",
      "Processing Record 220 / tukrah\n",
      "Processing Record 221 / raffadali\n",
      "Processing Record 222 / kamenskoye\n",
      "City not found. Skipping...\n",
      "Processing Record 223 / saint-paul\n",
      "Processing Record 224 / georgetown\n",
      "Processing Record 225 / bouguenais\n",
      "Processing Record 226 / shache\n",
      "Processing Record 227 / okhotsk\n",
      "Processing Record 228 / ocampo\n"
     ]
    },
    {
     "name": "stdout",
     "output_type": "stream",
     "text": [
      "Processing Record 229 / sokoni\n",
      "Processing Record 230 / grand gaube\n",
      "Processing Record 231 / banda aceh\n",
      "Processing Record 232 / moissala\n",
      "Processing Record 233 / minot\n",
      "Processing Record 234 / waipawa\n",
      "Processing Record 235 / lopez jaena\n",
      "Processing Record 236 / mlonggo\n",
      "Processing Record 237 / pimentel\n",
      "Processing Record 238 / sinnamary\n",
      "Processing Record 239 / walvis bay\n",
      "Processing Record 240 / taoudenni\n",
      "Processing Record 241 / rapid city\n",
      "Processing Record 242 / kaitangata\n",
      "Processing Record 243 / margate\n",
      "Processing Record 244 / pisco\n",
      "Processing Record 245 / north platte\n",
      "Processing Record 246 / esperance\n",
      "Processing Record 247 / kremnica\n",
      "Processing Record 248 / yellowknife\n",
      "Processing Record 249 / pinheiro machado\n",
      "Processing Record 250 / powell river\n",
      "Processing Record 251 / wulanhaote\n",
      "City not found. Skipping...\n",
      "Processing Record 252 / maneadero\n",
      "Processing Record 253 / shelburne\n",
      "Processing Record 254 / boyolangu\n",
      "Processing Record 255 / saint-francois\n",
      "Processing Record 256 / chilca\n",
      "Processing Record 257 / paamiut\n",
      "Processing Record 258 / manakara\n",
      "Processing Record 259 / iqaluit\n",
      "Processing Record 260 / komsomolskiy\n",
      "Processing Record 261 / linkou\n",
      "Processing Record 262 / roma\n",
      "Processing Record 263 / lalmohan\n",
      "Processing Record 264 / muisne\n",
      "Processing Record 265 / nouadhibou\n",
      "Processing Record 266 / puerto quijarro\n",
      "Processing Record 267 / salalah\n",
      "Processing Record 268 / voyvozh\n",
      "Processing Record 269 / marsabit\n",
      "Processing Record 270 / codrington\n",
      "Processing Record 271 / ondorhaan\n",
      "City not found. Skipping...\n",
      "Processing Record 272 / sechura\n",
      "Processing Record 273 / springbok\n",
      "Processing Record 274 / lugazi\n",
      "Processing Record 275 / general pico\n",
      "Processing Record 276 / isla mujeres\n",
      "Processing Record 277 / yichang\n",
      "Processing Record 278 / pochutla\n",
      "Processing Record 279 / kachug\n",
      "Processing Record 280 / mahaicony\n",
      "City not found. Skipping...\n",
      "Processing Record 281 / lulea\n",
      "Processing Record 282 / sovetskiy\n",
      "Processing Record 283 / nara\n",
      "Processing Record 284 / progreso\n",
      "Processing Record 285 / kasiri\n",
      "Processing Record 286 / jiazi\n",
      "Processing Record 287 / dudinka\n",
      "Processing Record 288 / partyzany\n",
      "Processing Record 289 / nguiu\n",
      "City not found. Skipping...\n",
      "Processing Record 290 / hasaki\n",
      "Processing Record 291 / newport\n",
      "Processing Record 292 / ambodifototra\n",
      "City not found. Skipping...\n",
      "Processing Record 293 / dumlan\n",
      "Processing Record 294 / suchiapa\n",
      "Processing Record 295 / porbandar\n",
      "Processing Record 296 / neiafu\n",
      "Processing Record 297 / longhua\n",
      "Processing Record 298 / saint-avertin\n",
      "Processing Record 299 / hambantota\n",
      "Processing Record 300 / grand river south east\n",
      "City not found. Skipping...\n",
      "Processing Record 301 / bolungarvik\n",
      "City not found. Skipping...\n",
      "Processing Record 302 / soyo\n",
      "Processing Record 303 / portales\n",
      "Processing Record 304 / evensk\n",
      "Processing Record 305 / limbang\n",
      "Processing Record 306 / nuevo progreso\n",
      "Processing Record 307 / salym\n",
      "Processing Record 308 / dumabato\n",
      "Processing Record 309 / port augusta\n",
      "Processing Record 310 / palmer\n",
      "Processing Record 311 / jinchang\n",
      "Processing Record 312 / dubbo\n",
      "Processing Record 313 / aripuana\n",
      "Processing Record 314 / lakhimpur\n",
      "Processing Record 315 / fare\n",
      "Processing Record 316 / grindavik\n",
      "Processing Record 317 / umzimvubu\n",
      "City not found. Skipping...\n",
      "Processing Record 318 / zaraza\n",
      "Processing Record 319 / bousse\n",
      "Processing Record 320 / svetlogorsk\n",
      "Processing Record 321 / alofi\n",
      "Processing Record 322 / louisbourg\n",
      "City not found. Skipping...\n",
      "Processing Record 323 / sosnogorsk\n",
      "Processing Record 324 / hauterive\n",
      "Processing Record 325 / skelleftea\n",
      "Processing Record 326 / eenhana\n",
      "Processing Record 327 / rungata\n",
      "City not found. Skipping...\n",
      "Processing Record 328 / zyryanka\n",
      "Processing Record 329 / ostersund\n",
      "Processing Record 330 / doka\n",
      "Processing Record 331 / amderma\n",
      "City not found. Skipping...\n",
      "Processing Record 332 / hualmay\n",
      "Processing Record 333 / attawapiskat\n",
      "City not found. Skipping...\n",
      "Processing Record 334 / nanded\n",
      "City not found. Skipping...\n",
      "Processing Record 335 / cerqueira cesar\n",
      "Processing Record 336 / tucupita\n",
      "Processing Record 337 / linxia\n",
      "Processing Record 338 / vao\n",
      "Processing Record 339 / sioux lookout\n",
      "Processing Record 340 / touros\n",
      "Processing Record 341 / mazagao\n",
      "Processing Record 342 / kutum\n",
      "Processing Record 343 / uvarovo\n",
      "Processing Record 344 / srednekolymsk\n",
      "Processing Record 345 / tel aviv-yafo\n",
      "Processing Record 346 / mlimba\n",
      "Processing Record 347 / asuncion\n",
      "Processing Record 348 / nanortalik\n",
      "Processing Record 349 / russell\n",
      "Processing Record 350 / huarmey\n",
      "Processing Record 351 / tianpeng\n",
      "Processing Record 352 / abrau-dyurso\n",
      "Processing Record 353 / bethanien\n",
      "Processing Record 354 / puerto ayacucho\n",
      "Processing Record 355 / bandarbeyla\n",
      "Processing Record 356 / zelenoborsk\n",
      "Processing Record 357 / lucea\n",
      "Processing Record 358 / shenjiamen\n",
      "Processing Record 359 / rio branco\n",
      "Processing Record 360 / fallbrook\n",
      "Processing Record 361 / sur\n",
      "Processing Record 362 / baruun-urt\n",
      "Processing Record 363 / roald\n",
      "Processing Record 364 / flin flon\n",
      "Processing Record 365 / rendsburg\n",
      "Processing Record 366 / namibe\n",
      "Processing Record 367 / slobidka\n",
      "Processing Record 368 / beaverlodge\n",
      "Processing Record 369 / port victoria\n",
      "Processing Record 370 / meulaboh\n",
      "Processing Record 371 / faya\n",
      "Processing Record 372 / ternate\n",
      "Processing Record 373 / kuytun\n",
      "Processing Record 374 / jacqueville\n",
      "Processing Record 375 / loiza\n",
      "Processing Record 376 / cordoba\n",
      "Processing Record 377 / opotiki\n",
      "Processing Record 378 / leh\n",
      "Processing Record 379 / rawson\n",
      "Processing Record 380 / rorvik\n",
      "Processing Record 381 / lenoir\n",
      "Processing Record 382 / faanui\n",
      "Processing Record 383 / sao joao da barra\n",
      "Processing Record 384 / povolzhskiy\n",
      "Processing Record 385 / san pedro\n",
      "Processing Record 386 / arraial do cabo\n",
      "Processing Record 387 / urdzhar\n",
      "City not found. Skipping...\n",
      "Processing Record 388 / chore\n",
      "City not found. Skipping...\n",
      "Processing Record 389 / hami\n",
      "Processing Record 390 / bilibino\n",
      "Processing Record 391 / fortuna\n",
      "Processing Record 392 / bayir\n",
      "Processing Record 393 / lorengau\n",
      "Processing Record 394 / north bend\n",
      "Processing Record 395 / gosainganj\n",
      "Processing Record 396 / yarada\n",
      "Processing Record 397 / itacoatiara\n",
      "Processing Record 398 / bubaque\n",
      "Processing Record 399 / manjacaze\n",
      "Processing Record 400 / sitangkai\n",
      "Processing Record 401 / aguimes\n",
      "Processing Record 402 / bambous virieux\n",
      "Processing Record 403 / la raya de santa maria\n",
      "Processing Record 404 / joshimath\n",
      "Processing Record 405 / potiskum\n",
      "Processing Record 406 / pahrump\n",
      "Processing Record 407 / harper\n",
      "Processing Record 408 / noshiro\n",
      "Processing Record 409 / itoman\n",
      "Processing Record 410 / witu\n",
      "Processing Record 411 / vila franca do campo\n",
      "Processing Record 412 / tautira\n",
      "Processing Record 413 / copiapo\n",
      "Processing Record 414 / aktau\n",
      "Processing Record 415 / maarianhamina\n",
      "Processing Record 416 / kavarna\n",
      "Processing Record 417 / teya\n",
      "Processing Record 418 / carutapera\n",
      "Processing Record 419 / matay\n",
      "Processing Record 420 / canto do buriti\n",
      "Processing Record 421 / eureka\n",
      "Processing Record 422 / hameenlinna\n",
      "Processing Record 423 / osecina\n",
      "Processing Record 424 / belyy yar\n",
      "Processing Record 425 / tupelo\n",
      "Processing Record 426 / vigrestad\n",
      "Processing Record 427 / calamar\n",
      "Processing Record 428 / beihai\n",
      "Processing Record 429 / rio grande\n",
      "Processing Record 430 / port lincoln\n",
      "Processing Record 431 / nanakuli\n",
      "Processing Record 432 / mombaca\n",
      "Processing Record 433 / dakar\n",
      "Processing Record 434 / heishan\n",
      "Processing Record 435 / haverfordwest\n",
      "Processing Record 436 / bahia blanca\n",
      "Processing Record 437 / arraias\n",
      "Processing Record 438 / hun\n",
      "Processing Record 439 / mana\n",
      "Processing Record 440 / fort nelson\n",
      "Processing Record 441 / charters towers\n",
      "Processing Record 442 / cockburn harbour\n",
      "City not found. Skipping...\n",
      "Processing Record 443 / north myrtle beach\n",
      "Processing Record 444 / karkaralinsk\n",
      "City not found. Skipping...\n",
      "Processing Record 445 / traverse city\n",
      "Processing Record 446 / vastervik\n",
      "City not found. Skipping...\n",
      "Processing Record 447 / cravo norte\n",
      "Processing Record 448 / sao gabriel\n",
      "Processing Record 449 / batagay\n",
      "Processing Record 450 / pangnirtung\n",
      "Processing Record 451 / calabozo\n",
      "Processing Record 452 / falaleu\n",
      "City not found. Skipping...\n",
      "Processing Record 453 / safut\n",
      "Processing Record 454 / udaipur\n",
      "Processing Record 455 / te anau\n",
      "Processing Record 456 / raudeberg\n",
      "Processing Record 457 / marovoay\n",
      "Processing Record 458 / cap malheureux\n",
      "Processing Record 459 / ust-kuyga\n"
     ]
    },
    {
     "name": "stdout",
     "output_type": "stream",
     "text": [
      "Processing Record 460 / qui nhon\n",
      "Processing Record 461 / adrar\n",
      "Processing Record 462 / ushumun\n",
      "Processing Record 463 / college\n",
      "Processing Record 464 / kingsville\n",
      "Processing Record 465 / cockburn town\n",
      "Processing Record 466 / beloha\n",
      "Processing Record 467 / livingstone\n",
      "Processing Record 468 / gizo\n",
      "Processing Record 469 / riberalta\n",
      "Processing Record 470 / dingle\n",
      "Processing Record 471 / nikel\n",
      "Processing Record 472 / dongsheng\n",
      "Processing Record 473 / knysna\n",
      "Processing Record 474 / waingapu\n",
      "Processing Record 475 / uruguaiana\n",
      "Processing Record 476 / colares\n",
      "Processing Record 477 / beringovskiy\n",
      "Processing Record 478 / port-gentil\n",
      "Processing Record 479 / upington\n",
      "Processing Record 480 / tymovskoye\n",
      "Processing Record 481 / garowe\n",
      "Processing Record 482 / darnah\n",
      "Processing Record 483 / krasnoselkup\n",
      "Processing Record 484 / muriwai beach\n",
      "Processing Record 485 / canete\n",
      "Processing Record 486 / waddan\n",
      "Processing Record 487 / torbay\n",
      "Processing Record 488 / inhambane\n",
      "Processing Record 489 / mwaya\n",
      "Processing Record 490 / panama city\n",
      "Processing Record 491 / kaeo\n",
      "Processing Record 492 / marienburg\n",
      "Processing Record 493 / vardo\n",
      "Processing Record 494 / nhamunda\n",
      "Processing Record 495 / hwange\n",
      "Processing Record 496 / melilla\n",
      "Processing Record 497 / kazalinsk\n",
      "City not found. Skipping...\n",
      "Processing Record 498 / selfoss\n",
      "Processing Record 499 / yershichi\n",
      "Processing Record 500 / storforshei\n",
      "Processing Record 501 / bayji\n",
      "Processing Record 502 / ust-kulom\n",
      "Processing Record 503 / luganville\n",
      "Processing Record 504 / zholymbet\n",
      "Processing Record 505 / roebourne\n",
      "Processing Record 506 / gibara\n",
      "Processing Record 507 / nueva granada\n",
      "Processing Record 508 / gravdal\n",
      "Processing Record 509 / adiake\n",
      "Processing Record 510 / sobolevo\n",
      "Processing Record 511 / poltava\n",
      "Processing Record 512 / qurayyat\n",
      "Processing Record 513 / kawalu\n",
      "Processing Record 514 / tari\n",
      "Processing Record 515 / burns lake\n",
      "Processing Record 516 / jiaohe\n",
      "Processing Record 517 / sorvag\n",
      "City not found. Skipping...\n",
      "Processing Record 518 / ha giang\n",
      "Processing Record 519 / krasnaya gora\n",
      "Processing Record 520 / tilichiki\n",
      "Processing Record 521 / kampot\n",
      "Processing Record 522 / podporozhye\n",
      "Processing Record 523 / bereda\n",
      "Processing Record 524 / zonguldak\n",
      "Processing Record 525 / ankpa\n",
      "Processing Record 526 / tazovskiy\n",
      "Processing Record 527 / samana\n",
      "Processing Record 528 / manuk mangkaw\n",
      "Processing Record 529 / dengzhou\n",
      "Processing Record 530 / ngunguru\n",
      "Processing Record 531 / braganca\n",
      "Processing Record 532 / gigmoto\n",
      "Processing Record 533 / smithers\n",
      "Processing Record 534 / krivodol\n",
      "Processing Record 535 / nuuk\n",
      "Processing Record 536 / bara\n",
      "Processing Record 537 / vilhena\n",
      "Processing Record 538 / atambua\n",
      "Processing Record 539 / samalaeulu\n",
      "City not found. Skipping...\n",
      "Processing Record 540 / galiwinku\n",
      "City not found. Skipping...\n",
      "Processing Record 541 / richards bay\n",
      "Processing Record 542 / cotonou\n",
      "Processing Record 543 / portland\n",
      "Processing Record 544 / prince rupert\n",
      "Processing Record 545 / batemans bay\n",
      "Processing Record 546 / korla\n",
      "Processing Record 547 / yerbogachen\n",
      "Processing Record 548 / mahasamund\n",
      "Processing Record 549 / cabra\n",
      "Processing Record 550 / agadir\n",
      "Processing Record 551 / atar\n",
      "Processing Record 552 / guarapari\n",
      "Processing Record 553 / tatawin\n",
      "Processing Record 554 / zboriste\n",
      "Processing Record 555 / inongo\n",
      "Processing Record 556 / toribio\n",
      "Processing Record 557 / ahuimanu\n",
      "Processing Record 558 / kulhudhuffushi\n",
      "Processing Record 559 / bunia\n",
      "Processing Record 560 / rabak\n",
      "Processing Record 561 / karaidel\n",
      "Processing Record 562 / warqla\n",
      "City not found. Skipping...\n",
      "Processing Record 563 / alice town\n",
      "Processing Record 564 / victoria point\n",
      "Processing Record 565 / aracati\n",
      "Processing Record 566 / quelimane\n",
      "-----------------------------\n",
      "Data Retrieval Complete\n",
      "-----------------------------\n"
     ]
    }
   ],
   "source": [
    "citylist = []\n",
    "cloudiness= []\n",
    "country = []\n",
    "date = []\n",
    "humidity = []\n",
    "lat = []\n",
    "lng = []\n",
    "max_temp = []\n",
    "wind_speed = []\n",
    "\n",
    "units = \"metric\"\n",
    "base_url = \"http://api.openweathermap.org/data/2.5/weather?\"\n",
    "query_url = f\"{base_url}appid={wkey}&units={units}&q=\"\n",
    "line = \"-----------------------------\"\n",
    "\n",
    "print(\"Beginning Data Retrieval\")\n",
    "print(line)\n",
    "count = 0\n",
    "for city in cities:\n",
    "    try:\n",
    "        response = requests.get(query_url + city).json()\n",
    "        print(f\"Processing Record {count} / {city}\")\n",
    "        citylist.append(response['name'])\n",
    "        cloudiness.append(response['clouds']['all'])\n",
    "        country.append(response['sys']['country'])\n",
    "        date.append(response['dt'])\n",
    "        humidity.append(response['main']['humidity'])\n",
    "        lat.append(response['coord']['lat'])\n",
    "        lng.append(response['coord']['lon'])\n",
    "        max_temp.append(response['main']['temp_max'])\n",
    "        wind_speed.append(response['wind']['speed'])\n",
    "        count += 1\n",
    "    except:\n",
    "        print(\"City not found. Skipping...\")\n",
    "        cities.remove(city)\n",
    "        count += 1\n",
    "        pass\n",
    "print(line)\n",
    "print(\"Data Retrieval Complete\")\n",
    "print(line)\n"
   ]
  },
  {
   "cell_type": "markdown",
   "metadata": {},
   "source": [
    "### Convert Raw Data to DataFrame\n",
    "* Export the city data into a .csv.\n",
    "* Display the DataFrame"
   ]
  },
  {
   "cell_type": "code",
   "execution_count": 6,
   "metadata": {},
   "outputs": [],
   "source": [
    "city_data_dict = {\n",
    "    'City':citylist, \"Cloudiness\":cloudiness, \"Country\":country, \"Date\":date, \"Humidity\":humidity,\n",
    "    \"Lat\":lat, \"Lng\":lng, \"Max Temp\":max_temp, \"Wind Speed\":wind_speed\n",
    "}\n",
    "\n",
    "city_data_df = pd.DataFrame(city_data_dict)\n",
    "\n",
    "city_data_df.to_csv(output_data_file)"
   ]
  },
  {
   "cell_type": "code",
   "execution_count": 7,
   "metadata": {},
   "outputs": [
    {
     "data": {
      "text/html": [
       "<div>\n",
       "<style scoped>\n",
       "    .dataframe tbody tr th:only-of-type {\n",
       "        vertical-align: middle;\n",
       "    }\n",
       "\n",
       "    .dataframe tbody tr th {\n",
       "        vertical-align: top;\n",
       "    }\n",
       "\n",
       "    .dataframe thead th {\n",
       "        text-align: right;\n",
       "    }\n",
       "</style>\n",
       "<table border=\"1\" class=\"dataframe\">\n",
       "  <thead>\n",
       "    <tr style=\"text-align: right;\">\n",
       "      <th></th>\n",
       "      <th>City</th>\n",
       "      <th>Cloudiness</th>\n",
       "      <th>Country</th>\n",
       "      <th>Date</th>\n",
       "      <th>Humidity</th>\n",
       "      <th>Lat</th>\n",
       "      <th>Lng</th>\n",
       "      <th>Max Temp</th>\n",
       "      <th>Wind Speed</th>\n",
       "    </tr>\n",
       "  </thead>\n",
       "  <tbody>\n",
       "    <tr>\n",
       "      <th>0</th>\n",
       "      <td>Barrow</td>\n",
       "      <td>40</td>\n",
       "      <td>US</td>\n",
       "      <td>1579968036</td>\n",
       "      <td>68</td>\n",
       "      <td>71.29</td>\n",
       "      <td>-156.79</td>\n",
       "      <td>-29.00</td>\n",
       "      <td>3.60</td>\n",
       "    </tr>\n",
       "    <tr>\n",
       "      <th>1</th>\n",
       "      <td>Constitucion</td>\n",
       "      <td>0</td>\n",
       "      <td>CL</td>\n",
       "      <td>1579968097</td>\n",
       "      <td>38</td>\n",
       "      <td>-35.33</td>\n",
       "      <td>-72.42</td>\n",
       "      <td>22.34</td>\n",
       "      <td>3.69</td>\n",
       "    </tr>\n",
       "    <tr>\n",
       "      <th>2</th>\n",
       "      <td>East London</td>\n",
       "      <td>24</td>\n",
       "      <td>ZA</td>\n",
       "      <td>1579968097</td>\n",
       "      <td>65</td>\n",
       "      <td>-33.02</td>\n",
       "      <td>27.91</td>\n",
       "      <td>27.00</td>\n",
       "      <td>3.10</td>\n",
       "    </tr>\n",
       "    <tr>\n",
       "      <th>3</th>\n",
       "      <td>New Norfolk</td>\n",
       "      <td>100</td>\n",
       "      <td>AU</td>\n",
       "      <td>1579968097</td>\n",
       "      <td>72</td>\n",
       "      <td>-42.78</td>\n",
       "      <td>147.06</td>\n",
       "      <td>18.89</td>\n",
       "      <td>1.34</td>\n",
       "    </tr>\n",
       "    <tr>\n",
       "      <th>4</th>\n",
       "      <td>Tuktoyaktuk</td>\n",
       "      <td>100</td>\n",
       "      <td>CA</td>\n",
       "      <td>1579968050</td>\n",
       "      <td>97</td>\n",
       "      <td>69.45</td>\n",
       "      <td>-133.04</td>\n",
       "      <td>-25.38</td>\n",
       "      <td>8.43</td>\n",
       "    </tr>\n",
       "  </tbody>\n",
       "</table>\n",
       "</div>"
      ],
      "text/plain": [
       "           City  Cloudiness Country        Date  Humidity    Lat     Lng  \\\n",
       "0        Barrow          40      US  1579968036        68  71.29 -156.79   \n",
       "1  Constitucion           0      CL  1579968097        38 -35.33  -72.42   \n",
       "2   East London          24      ZA  1579968097        65 -33.02   27.91   \n",
       "3   New Norfolk         100      AU  1579968097        72 -42.78  147.06   \n",
       "4   Tuktoyaktuk         100      CA  1579968050        97  69.45 -133.04   \n",
       "\n",
       "   Max Temp  Wind Speed  \n",
       "0    -29.00        3.60  \n",
       "1     22.34        3.69  \n",
       "2     27.00        3.10  \n",
       "3     18.89        1.34  \n",
       "4    -25.38        8.43  "
      ]
     },
     "execution_count": 7,
     "metadata": {},
     "output_type": "execute_result"
    }
   ],
   "source": [
    "city_data_df.head()"
   ]
  },
  {
   "cell_type": "markdown",
   "metadata": {},
   "source": [
    "### Plotting the Data\n",
    "* Use proper labeling of the plots using plot titles (including date of analysis) and axes labels.\n",
    "* Save the plotted figures as .pngs."
   ]
  },
  {
   "cell_type": "markdown",
   "metadata": {},
   "source": [
    "#### Latitude vs. Temperature Plot"
   ]
  },
  {
   "cell_type": "code",
   "execution_count": null,
   "metadata": {},
   "outputs": [],
   "source": [
    "# trying to get the unixdate to real date.\n",
    "\n",
    "# date = pd.to_datetime(city_data_df['Date'], unit='ms')\n",
    "# df.loc[df.credit_score > 800, 'credit_score'] /= 100\n",
    "# city_data_df['Date'] = city_data_df.loc[city_data_df.Date, 'Date']/60/60/24\n",
    "# date"
   ]
  },
  {
   "cell_type": "code",
   "execution_count": 8,
   "metadata": {
    "scrolled": true
   },
   "outputs": [
    {
     "data": {
      "image/png": "[encoded data removed]",
      "text/plain": [
       "<Figure size 432x288 with 1 Axes>"
      ]
     },
     "metadata": {
      "needs_background": "light"
     },
     "output_type": "display_data"
    }
   ],
   "source": [
    "lat_temp_plot = city_data_df.plot.scatter(y=\"Max Temp\", x=\"Lat\", grid=True)\n",
    "plt.ylabel(\"Maximum Temperature (degrees C)\")\n",
    "plt.xlabel('Latitude (degrees)')\n",
    "plt.title(f'City Latitude vs Maximum Temperature')\n",
    "plt.savefig('output_data/cit-vs-temp.png')\n",
    "plt.show()"
   ]
  },
  {
   "cell_type": "markdown",
   "metadata": {},
   "source": [
    "Explain what the code is and analyzing: \n",
    "Plot to see if the cities maxiumn temperature is dependant of the latitude. "
   ]
  },
  {
   "cell_type": "markdown",
   "metadata": {},
   "source": [
    "#### Latitude vs. Humidity Plot"
   ]
  },
  {
   "cell_type": "code",
   "execution_count": 9,
   "metadata": {},
   "outputs": [
    {
     "data": {
      "image/png": "[encoded data removed]",
      "text/plain": [
       "<Figure size 432x288 with 1 Axes>"
      ]
     },
     "metadata": {
      "needs_background": "light"
     },
     "output_type": "display_data"
    }
   ],
   "source": [
    "lat_hum_plot = city_data_df.plot.scatter(y='Humidity', x='Lat', grid=True)\n",
    "plt.ylabel(\"Humidity (%)\")\n",
    "plt.xlabel(\"Latitude (degrees)\")\n",
    "plt.title(\"City Latitude vs. Humidity\")\n",
    "plt.savefig('output_data/cit-vs-humidity.png')\n",
    "plt.show()"
   ]
  },
  {
   "cell_type": "markdown",
   "metadata": {},
   "source": [
    "Explain what the code is and analyzing: \n",
    "Plot to see if the cities humidity is dependant of the latitude. "
   ]
  },
  {
   "cell_type": "markdown",
   "metadata": {},
   "source": [
    "#### Latitude vs. Cloudiness Plot"
   ]
  },
  {
   "cell_type": "code",
   "execution_count": 10,
   "metadata": {},
   "outputs": [
    {
     "data": {
      "image/png": "[encoded data removed]",
      "text/plain": [
       "<Figure size 432x288 with 1 Axes>"
      ]
     },
     "metadata": {
      "needs_background": "light"
     },
     "output_type": "display_data"
    }
   ],
   "source": [
    "lat_clouds_plot = city_data_df.plot.scatter(y='Cloudiness', x='Lat', grid=True)\n",
    "plt.ylabel(\"Cloudiness (%)\")\n",
    "plt.xlabel('Latitude (degrees)')\n",
    "plt.title(\"City Latitude vs. Cloudiness\")\n",
    "plt.savefig('output_data/cit-vs-coudiness.png')\n",
    "plt.show()"
   ]
  },
  {
   "cell_type": "markdown",
   "metadata": {},
   "source": [
    "Explain what the code is and analyzing: \n",
    "Plot to see if the cities cloudiness is dependant of the latitude. "
   ]
  },
  {
   "cell_type": "markdown",
   "metadata": {},
   "source": [
    "#### Latitude vs. Wind Speed Plot"
   ]
  },
  {
   "cell_type": "code",
   "execution_count": 11,
   "metadata": {},
   "outputs": [
    {
     "data": {
      "image/png": "[encoded data removed]",
      "text/plain": [
       "<Figure size 432x288 with 1 Axes>"
      ]
     },
     "metadata": {
      "needs_background": "light"
     },
     "output_type": "display_data"
    }
   ],
   "source": [
    "lat_clouds_plot = city_data_df.plot.scatter(y='Wind Speed', x='Lat', grid=True)\n",
    "plt.ylabel(\"Wind Speed (mph)\")\n",
    "plt.xlabel(\"Latitude (degrees)\")\n",
    "plt.title(\"City Latitude vs. Wind Speed\")\n",
    "plt.savefig('output_data/cit-vs-wind.png')\n",
    "plt.show()"
   ]
  },
  {
   "cell_type": "markdown",
   "metadata": {},
   "source": [
    "Explain what the code is and analyzing: \n",
    "Plot to see if the cities wind speed is dependant of the latitude. "
   ]
  },
  {
   "cell_type": "markdown",
   "metadata": {},
   "source": [
    "## Linear Regression"
   ]
  },
  {
   "cell_type": "code",
   "execution_count": 38,
   "metadata": {},
   "outputs": [],
   "source": [
    "# OPTIONAL: Create a function to create Linear Regression plots\n",
    "def line_regress_function(x_values, y_values):\n",
    "    (slope, intercept, rvalue, pvalue, stderr) = linregress(x_values, y_values)\n",
    "    regress_values = x_values * slope + intercept\n",
    "    line_eq = f\"y = {round(slope,2)}x + {round(intercept,2)}\"\n",
    "    r_value = f'r-squared = {round(rvalue,4)}'\n",
    "    plt.scatter(x_values, y_values)\n",
    "    plt.grid()\n",
    "    plt.plot(x_values, regress_values, \"r-\")\n",
    "    plt.annotate(f'{line_eq} {r_value}', (np.min(x_values),np.min(y_values)), fontsize=10, color='r')\n",
    "#     print(plt.annotate(line_eq, (40,-34), fontsize=15, color='r'))\n",
    "#     print(f'The r-squared is: {rvalue}')\n",
    "    return(plt)"
   ]
  },
  {
   "cell_type": "code",
   "execution_count": 14,
   "metadata": {},
   "outputs": [],
   "source": [
    "# Create Northern and Southern Hemisphere DataFrames\n",
    "northern_hem_df = city_data_df[city_data_df[\"Lat\"]>0]\n",
    "southern_hem_df = city_data_df[city_data_df[\"Lat\"]<0]"
   ]
  },
  {
   "cell_type": "markdown",
   "metadata": {},
   "source": [
    "####  Northern Hemisphere - Max Temp vs. Latitude Linear Regression"
   ]
  },
  {
   "cell_type": "code",
   "execution_count": 39,
   "metadata": {},
   "outputs": [
    {
     "data": {
      "image/png": "[encoded data removed]",
      "text/plain": [
       "<Figure size 432x288 with 1 Axes>"
      ]
     },
     "metadata": {
      "needs_background": "light"
     },
     "output_type": "display_data"
    }
   ],
   "source": [
    "line_regress_function(northern_hem_df['Lat'],northern_hem_df[\"Max Temp\"])\n",
    "plt.ylabel(\"Maximum Temperature (degrees C)\")\n",
    "plt.xlabel(\"Latitude (degrees)\")\n",
    "plt.title(\"Northern Hemisphere - City Latitude vs. Maximum Temperature\")\n",
    "plt.savefig('output_data/Northern-Hemisphere-cit-vs-temp-regress.png')\n",
    "plt.show()"
   ]
  },
  {
   "cell_type": "markdown",
   "metadata": {},
   "source": [
    "Explain what the linear regression is modelling such as any relationships you notice and any other analysis you may have: \n",
    "In the northern hemisphere, it could be said that the maximum temperature is corellated to the latitude of that city."
   ]
  },
  {
   "cell_type": "markdown",
   "metadata": {},
   "source": [
    "####  Southern Hemisphere - Max Temp vs. Latitude Linear Regression"
   ]
  },
  {
   "cell_type": "code",
   "execution_count": 20,
   "metadata": {},
   "outputs": [
    {
     "name": "stdout",
     "output_type": "stream",
     "text": [
      "The r-squared is: 0.45947188718171467\n"
     ]
    },
    {
     "data": {
      "image/png": "[encoded data removed]",
      "text/plain": [
       "<Figure size 432x288 with 1 Axes>"
      ]
     },
     "metadata": {
      "needs_background": "light"
     },
     "output_type": "display_data"
    }
   ],
   "source": [
    "line_regress_function(southern_hem_df['Lat'],southern_hem_df[\"Max Temp\"])\n",
    "plt.ylabel(\"Maximum Temperature (degrees C)\")\n",
    "plt.xlabel(\"Latitude (degrees)\")\n",
    "plt.title(\"Southern Hemisphere - City Latitude vs. Maximum Temperature\")\n",
    "plt.savefig('output_data/Southern-Hemisphere-cit-vs-temp-regress.png')\n",
    "plt.show()"
   ]
  },
  {
   "cell_type": "markdown",
   "metadata": {},
   "source": [
    "Explain what the linear regression is modelling such as any relationships you notice and any other analysis you may have: \n",
    "In the sourthern hemisphere, the maximum temperature may not corellated to the latitude of that city.It should be noted that there are far less data points in the sothern hemisphere (at least when I did this particulare data pull)."
   ]
  },
  {
   "cell_type": "markdown",
   "metadata": {},
   "source": [
    "####  Northern Hemisphere - Humidity (%) vs. Latitude Linear Regression"
   ]
  },
  {
   "cell_type": "code",
   "execution_count": 21,
   "metadata": {},
   "outputs": [
    {
     "name": "stdout",
     "output_type": "stream",
     "text": [
      "The r-squared is: 0.4774909574750266\n"
     ]
    },
    {
     "data": {
      "image/png": "[encoded data removed]",
      "text/plain": [
       "<Figure size 432x288 with 1 Axes>"
      ]
     },
     "metadata": {
      "needs_background": "light"
     },
     "output_type": "display_data"
    }
   ],
   "source": [
    "line_regress_function(northern_hem_df['Lat'],northern_hem_df[\"Humidity\"])\n",
    "plt.ylabel(\"Humidity (%)\")\n",
    "plt.xlabel(\"Latitude (degrees)\")\n",
    "plt.title(\"Northern Hemisphere - City Latitude vs. Humidity\")\n",
    "plt.savefig('output_data/Northern-Hemisphere-cit-vs-humidity-regress.png')\n",
    "plt.show()"
   ]
  },
  {
   "cell_type": "markdown",
   "metadata": {},
   "source": [
    "Explain what the linear regression is modelling such as any relationships you notice and any other analysis you may have: \n",
    "In the northern hemisphere, the humdity is probably not corellated to the latitude of that city. Consider looking seasonally."
   ]
  },
  {
   "cell_type": "markdown",
   "metadata": {},
   "source": [
    "####  Southern Hemisphere - Humidity (%) vs. Latitude Linear Regression"
   ]
  },
  {
   "cell_type": "code",
   "execution_count": 22,
   "metadata": {},
   "outputs": [
    {
     "name": "stdout",
     "output_type": "stream",
     "text": [
      "The r-squared is: 0.12020484173187543\n"
     ]
    },
    {
     "data": {
      "image/png": "[encoded data removed]",
      "text/plain": [
       "<Figure size 432x288 with 1 Axes>"
      ]
     },
     "metadata": {
      "needs_background": "light"
     },
     "output_type": "display_data"
    }
   ],
   "source": [
    "line_regress_function(southern_hem_df['Lat'],southern_hem_df[\"Humidity\"])\n",
    "plt.ylabel(\"Humidity (%)\")\n",
    "plt.xlabel(\"Latitude (degrees)\")\n",
    "plt.title(\"Southern Hemisphere - City Latitude vs. Humidity\")\n",
    "plt.savefig('output_data/Southern-Hemisphere-cit-vs-humidity-regress.png')\n",
    "plt.show()"
   ]
  },
  {
   "cell_type": "markdown",
   "metadata": {},
   "source": [
    "Explain what the linear regression is modelling such as any relationships you notice and any other analysis you may have: \n",
    "In the southern hemisphere, the humdity is probably not corellated to the latitude of that city. Consider looking seasonally."
   ]
  },
  {
   "cell_type": "markdown",
   "metadata": {},
   "source": [
    "####  Northern Hemisphere - Cloudiness (%) vs. Latitude Linear Regression"
   ]
  },
  {
   "cell_type": "code",
   "execution_count": null,
   "metadata": {},
   "outputs": [],
   "source": [
    "line_regress_function(northern_hem_df['Lat'],northern_hem_df[\"Cloudiness\"])\n",
    "plt.ylabel(\"Cloudiness (%)\")\n",
    "plt.xlabel('Latitude (degrees)')\n",
    "plt.title(\"Northern Hemisphere - City Latitude vs. Cloudiness\")\n",
    "plt.savefig('output_data/Northern-Hemisphere-cit-vs-coludiness-regress.png')\n",
    "plt.show()"
   ]
  },
  {
   "cell_type": "markdown",
   "metadata": {},
   "source": [
    "Explain what the linear regression is modelling such as any relationships you notice and any other analysis you may have: \n",
    "In the northern hemisphere, the cloudiness is probably not corellated to the latitude of that city."
   ]
  },
  {
   "cell_type": "markdown",
   "metadata": {},
   "source": [
    "####  Southern Hemisphere - Cloudiness (%) vs. Latitude Linear Regression"
   ]
  },
  {
   "cell_type": "code",
   "execution_count": null,
   "metadata": {},
   "outputs": [],
   "source": [
    "line_regress_function(southern_hem_df['Lat'],southern_hem_df[\"Cloudiness\"])\n",
    "plt.ylabel(\"Cloudiness (%)\")\n",
    "plt.xlabel('Latitude (degrees)')\n",
    "plt.title(\"Southern Hemisphere - City Latitude vs. Cloudiness\")\n",
    "plt.savefig('output_data/Southern-Hemisphere-cit-vs-coludiness-regress.png')\n",
    "plt.show()"
   ]
  },
  {
   "cell_type": "markdown",
   "metadata": {},
   "source": [
    "Explain what the linear regression is modelling such as any relationships you notice and any other analysis you may have: \n",
    "In the sourthern hemisphere, the cloudiness is probably not corellated to the latitude of that city."
   ]
  },
  {
   "cell_type": "markdown",
   "metadata": {},
   "source": [
    "####  Northern Hemisphere - Wind Speed (mph) vs. Latitude Linear Regression"
   ]
  },
  {
   "cell_type": "code",
   "execution_count": null,
   "metadata": {},
   "outputs": [],
   "source": [
    "line_regress_function(northern_hem_df['Lat'],northern_hem_df[\"Wind Speed\"])\n",
    "plt.ylabel(\"Wind Speed (mph)\")\n",
    "plt.xlabel(\"Latitude (degrees)\")\n",
    "plt.title(\"Northern Hemisphere - City Latitude vs. Wind Speed\")\n",
    "plt.savefig('output_data/Northern-Hemisphere-cit-vs-wind-regress.png')\n",
    "plt.show()"
   ]
  },
  {
   "cell_type": "markdown",
   "metadata": {},
   "source": [
    "Explain what the linear regression is modelling such as any relationships you notice and any other analysis you may have: \n",
    "In the northern hemisphere, the wind speed is probably not corellated to the latitude of that city. The wind speed seems to be mostly constant across latitude."
   ]
  },
  {
   "cell_type": "markdown",
   "metadata": {},
   "source": [
    "####  Southern Hemisphere - Wind Speed (mph) vs. Latitude Linear Regression"
   ]
  },
  {
   "cell_type": "code",
   "execution_count": null,
   "metadata": {},
   "outputs": [],
   "source": [
    "line_regress_function(southern_hem_df['Lat'],southern_hem_df[\"Wind Speed\"])\n",
    "plt.ylabel(\"Wind Speed (mph)\")\n",
    "plt.xlabel(\"Latitude (degrees)\")\n",
    "plt.title(\"Southern Hemisphere - City Latitude vs. Wind Speed\")\n",
    "plt.savefig('output_data/Southern-Hemisphere-cit-vs-wind-regress.png')\n",
    "plt.show()"
   ]
  },
  {
   "cell_type": "markdown",
   "metadata": {},
   "source": [
    "Explain what the linear regression is modelling such as any relationships you notice and any other analysis you may have: \n",
    "In the sourthern hemisphere, the wind speed is probably not corellated to the latitude of that city. The wind speed seems to be mostly constant across latitude."
   ]
  },
  {
   "cell_type": "code",
   "execution_count": null,
   "metadata": {},
   "outputs": [],
   "source": []
  }
 ],
 "metadata": {
  "anaconda-cloud": {},
  "kernel_info": {
   "name": "python3"
  },
  "kernelspec": {
   "display_name": "Python 3",
   "language": "python",
   "name": "python3"
  },
  "language_info": {
   "codemirror_mode": {
    "name": "ipython",
    "version": 3
   },
   "file_extension": ".py",
   "mimetype": "text/x-python",
   "name": "python",
   "nbconvert_exporter": "python",
   "pygments_lexer": "ipython3",
   "version": "3.6.9"
  },
  "latex_envs": {
   "LaTeX_envs_menu_present": true,
   "autoclose": false,
   "autocomplete": true,
   "bibliofile": "biblio.bib",
   "cite_by": "apalike",
   "current_citInitial": 1,
   "eqLabelWithNumbers": true,
   "eqNumInitial": 1,
   "hotkeys": {
    "equation": "Ctrl-E",
    "itemize": "Ctrl-I"
   },
   "labels_anchors": false,
   "latex_user_defs": false,
   "report_style_numbering": false,
   "user_envs_cfg": false
  },
  "nteract": {
   "version": "0.12.3"
  }
 },
 "nbformat": 4,
 "nbformat_minor": 2
}
